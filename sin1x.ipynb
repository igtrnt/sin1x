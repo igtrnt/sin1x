{
 "cells": [
  {
   "cell_type": "code",
   "execution_count": 32,
   "metadata": {},
   "outputs": [],
   "source": [
    "from math import sin, cos, fsum\n",
    "from numpy.polynomial.laguerre import laggauss\n",
    "\n",
    "\n",
    "def integrate_sin1x_from0(b, ns, ws):\n",
    "    \"\"\"\n",
    "    Compute int_0^b \\sin(1/x) dx\n",
    "\n",
    "    Parameters:\n",
    "        b  - integration limit\n",
    "        ns - Gauss-Laguerre nodes\n",
    "        ws - Gauss-Laguerre weights\n",
    "\n",
    "    Returns:\n",
    "        Integral value\n",
    "    \"\"\"\n",
    "    if b == 0:\n",
    "        return 0.0\n",
    "    \n",
    "    rb = 1.0 / abs(b)\n",
    "    d = 1.0 / (rb * rb + ns * ns)\n",
    "\n",
    "#   values = (sin(rb) - 2.0 * rb * cos(rb) * ns * d) * d\n",
    "    values = (cos(rb) + 2.0 * rb * sin(rb) * ns * d) * d\n",
    "    values = values * ws\n",
    "\n",
    "    return fsum(values)\n",
    "\n",
    "\n",
    "def integrate_sin1x(a, b, deg=32):\n",
    "    \"\"\"\n",
    "    Compute int_a^b \\sin(1/x) dx\n",
    "\n",
    "    Parameters:\n",
    "        a   - left integration limit\n",
    "        b   - right integration limit\n",
    "        deg - Gauss-Laguerre quadrature degree\n",
    "\n",
    "    Returns:\n",
    "        Integral value\n",
    "    \"\"\"\n",
    "    ns, ws = laggauss(deg)\n",
    "\n",
    "    return integrate_sin1x_from0(b, ns, ws) - integrate_sin1x_from0(a, ns, ws)"
   ]
  },
  {
   "cell_type": "code",
   "execution_count": 43,
   "metadata": {},
   "outputs": [
    {
     "data": {
      "text/plain": [
       "8.463911016417246e-05"
      ]
     },
     "execution_count": 43,
     "metadata": {},
     "output_type": "execute_result"
    }
   ],
   "source": [
    "a = 0.001\n",
    "b = 0.01\n",
    "\n",
    "integrate_sin1x(a, b, 32)"
   ]
  },
  {
   "cell_type": "code",
   "execution_count": 44,
   "metadata": {},
   "outputs": [
    {
     "name": "stderr",
     "output_type": "stream",
     "text": [
      "<ipython-input-44-1a80ecced8e2>:6: IntegrationWarning: The maximum number of subdivisions (50) has been achieved.\n",
      "  If increasing the limit yields no improvement it is advised to analyze \n",
      "  the integrand in order to determine the difficulties.  If the position of a \n",
      "  local difficulty can be determined (singularity, discontinuity) one will \n",
      "  probably gain from splitting up the interval and calling the integrator \n",
      "  on the subranges.  Perhaps a special-purpose integrator should be used.\n",
      "  quad(integrand, a, b)[0]\n"
     ]
    },
    {
     "data": {
      "text/plain": [
       "8.460470212922121e-05"
      ]
     },
     "execution_count": 44,
     "metadata": {},
     "output_type": "execute_result"
    }
   ],
   "source": [
    "from scipy.integrate import quad\n",
    "\n",
    "def integrand(x):\n",
    "    return sin(1.0 / x)\n",
    "\n",
    "quad(integrand, a, b)[0]"
   ]
  }
 ],
 "metadata": {
  "kernelspec": {
   "display_name": "Python 3",
   "language": "python",
   "name": "python3"
  },
  "language_info": {
   "codemirror_mode": {
    "name": "ipython",
    "version": 3
   },
   "file_extension": ".py",
   "mimetype": "text/x-python",
   "name": "python",
   "nbconvert_exporter": "python",
   "pygments_lexer": "ipython3",
   "version": "3.8.6"
  }
 },
 "nbformat": 4,
 "nbformat_minor": 4
}
